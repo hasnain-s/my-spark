{
  "nbformat": 4,
  "nbformat_minor": 0,
  "metadata": {
    "colab": {
      "name": "A2.ipynb",
      "provenance": [],
      "collapsed_sections": []
    },
    "kernelspec": {
      "display_name": "Python 3",
      "language": "python",
      "name": "python3"
    },
    "language_info": {
      "codemirror_mode": {
        "name": "ipython",
        "version": 3
      },
      "file_extension": ".py",
      "mimetype": "text/x-python",
      "name": "python",
      "nbconvert_exporter": "python",
      "pygments_lexer": "ipython3",
      "version": "3.6.8"
    }
  },
  "cells": [
    {
      "cell_type": "markdown",
      "metadata": {
        "id": "kNwlw_9ObJxP"
      },
      "source": [
        "## CS431/631 Data Intensive Distributed Analytics\n",
        "### Winter 2021 - Assignment 2\n",
        "---"
      ]
    },
    {
      "cell_type": "markdown",
      "metadata": {
        "id": "3mSm7EZpbJxb"
      },
      "source": [
        "**Please edit this (text) cell to provide your name and UW student ID number!**\n",
        "* **Name:** Hasnain Syed\n",
        "* **ID:** 20565033"
      ]
    },
    {
      "cell_type": "markdown",
      "metadata": {
        "id": "fZI90WX2bJxc"
      },
      "source": [
        "---\n",
        "#### Overview\n",
        "For this assignment, you will be using Python and Spark to analyze the [pointwise mutual information (PMI)](http://en.wikipedia.org/wiki/Pointwise_mutual_information) of tokens in the text of Shakespeare's plays.    For this assignment, you will need the same text file (`Shakespeare.txt`) and Python tokenizer module, `simple_tokenize.py`, that you used for the first two assignments.    You will also use the same definition of PMI that was used for [Assignment 1](https://www.student.cs.uwaterloo.ca/~cs451/assignment1-431.html).\n",
        "\n",
        "We first need to install Apache Spark. Run the next block to download and install Spark. It will take about a minute to finish the instalation."
      ]
    },
    {
      "cell_type": "code",
      "metadata": {
        "id": "lh5NCoc8fsSO"
      },
      "source": [
        "!apt-get update -qq > /dev/null\n",
        "!apt-get install openjdk-8-jdk-headless -qq > /dev/null\n",
        "!wget -q https://downloads.apache.org/spark/spark-2.4.7/spark-2.4.7-bin-hadoop2.7.tgz\n",
        "!tar xf spark-2.4.7-bin-hadoop2.7.tgz\n",
        "!pip install -q findspark"
      ],
      "execution_count": null,
      "outputs": []
    },
    {
      "cell_type": "markdown",
      "metadata": {
        "id": "TEtWJXrebsdE"
      },
      "source": [
        "To use Spark from within a Python program, it is first necessary to tell the Python interpreter where the Spark installation is located. The code in the following cell tells Python how to find this Spark installation. This code creates SparkContext (sc) for you. Do not change this block."
      ]
    },
    {
      "cell_type": "code",
      "metadata": {
        "id": "Xnxe-BhPmbBW"
      },
      "source": [
        "import os\n",
        "os.environ[\"JAVA_HOME\"] = \"/usr/lib/jvm/java-8-openjdk-amd64\"\n",
        "os.environ[\"SPARK_HOME\"] = \"/content/spark-2.4.7-bin-hadoop2.7\"\n",
        "\n",
        "import findspark\n",
        "findspark.init()\n",
        "\n",
        "from pyspark import SparkContext, SparkConf\n",
        "\n",
        "spark_conf = SparkConf()\\\n",
        "  .setAppName(\"YourTest\")\\\n",
        "  .setMaster(\"local[*]\")\n",
        "\n",
        "sc = SparkContext.getOrCreate(spark_conf)"
      ],
      "execution_count": null,
      "outputs": []
    },
    {
      "cell_type": "markdown",
      "metadata": {
        "id": "Wk4QOfCtbJxe"
      },
      "source": [
        "Once Python knows where Spark is located, you can create a `SparkContext`.   All Spark commands must run within an active `SparkContext`.   The code below will create a `SparkContext`, and store a reference to the context in the variable `sc`. \n",
        "The `appName` parameter assigns a name of your choosing to the Spark jobs that are created in this context - this is useful mostly for debugging.   The `master` parameter indicates that Spark jobs will run in local mode, using two threads.   This means that your Spark jobs are not really running on a cluster, and are instead running in a single process on the local machine.   You program Spark jobs the same way whether they run in local mode or on a cluster - the main difference between local and cluster modes is, of course, performance.\n",
        "\n",
        "Next, let's test that your `SparkContext` has been set up properly by running some simple test code.   This code uses a single Spark job to estimate the value of Euler's number $e$. One way to calculate $e$ is to use the following serries by Jacob Bernoulli:\n",
        "\n",
        "$p_n = 1 - \\frac{1}{1!} + \\frac{1}{2!} - \\frac{1}{3!} + \\cdots + \\frac{(-1)^n}{n!} = \\sum_{k = 0}^n \\frac{(-1)^k}{k!}$\n",
        "\n",
        "As n tends to infinity, $p_n$ approaches $1/e$.\n",
        "\n",
        "In the following code,  `parallelize()` and `map()` are Spark *transformations*, and `reduce()` is a Spark *action*.   Study the code in the cell below, then go ahead and run it.   It should take several seconds, since a Spark job is being created and executed, and should print an estimate of $e$ when it finishes.   \n"
      ]
    },
    {
      "cell_type": "code",
      "metadata": {
        "colab": {
          "base_uri": "https://localhost:8080/"
        },
        "id": "octW5eVWbJxg",
        "outputId": "2900ccaa-5763-468c-8f73-369ca255cc82"
      },
      "source": [
        "import math\n",
        "\n",
        "n= 10000\n",
        "inverse_e = sc.parallelize(range(0, n)).map(lambda x: ((-1)**x) * (1 / math.factorial(x))).reduce(lambda x,y:x+y)\n",
        "e = 1 / inverse_e\n",
        "print(\"e = \", e)"
      ],
      "execution_count": null,
      "outputs": [
        {
          "output_type": "stream",
          "text": [
            "e =  2.718281828459044\n"
          ],
          "name": "stdout"
        }
      ]
    },
    {
      "cell_type": "markdown",
      "metadata": {
        "id": "AD9CXMDmbJxg"
      },
      "source": [
        "---\n",
        "#### Question 1  (4/30 marks):\n",
        "\n",
        "In the following cell, briefly explain how the example works.   What is the Spark job doing, and how is it used to estimate the value of $e$? How accurate is our estimate?"
      ]
    },
    {
      "cell_type": "markdown",
      "metadata": {
        "id": "eBiT9mjQbJxh"
      },
      "source": [
        "#### Your answer to Question 1:\n",
        "\n",
        "The formula to calculate Euler's number is calculated by a summation of an equation where \"n\" goes to infinity. Of course, we cannot actually have a piece of code that will tend to infinity, but we can simulate the same effect by having a very large number. \n",
        "\n",
        "In the example given, we have chose to simulate this by having n=10000. First we take a list of integers from 0 to 9999, and parallelize it to a Spark RDD. Each of the integers are than mapped to the summation formula, which are then reduced by adding all of them up to get the value of 1/e. Then, 1/e is simply inversed to get the value of e.\n",
        "\n",
        "The value of 1/e is very accruate to a certain number of digitis. This is because as we approach infinity, the very large n values have a very little affect on the value of 1/e because they result in a very large denominator, thus a very small value. The first few n values are very important to estimate the value of 1/e, which is then used to calculate e."
      ]
    },
    {
      "cell_type": "markdown",
      "metadata": {
        "id": "viOD-n5_bJxh"
      },
      "source": [
        "---\n",
        "### Important\n",
        "\n",
        "###### The questions that follow ask you to implement functions whose prototypes are given to you. Do **NOT** change the prototypes of the functions. Do **NOT** write code outside of the functions. All necessary code should be included in the function body (except for import statements). You may declare functions inside of the function body. When marking, we will execute your code by calling the functions from an external program, which is why your code cannot rely on statements running outside functions. Please remove any call to the functions that you may have introduced for test purposes before submitting your notebook."
      ]
    },
    {
      "cell_type": "markdown",
      "metadata": {
        "id": "KgkmAOV9bJxi"
      },
      "source": [
        "---\n",
        "#### Question 2  (4/30 marks):\n",
        "\n",
        "Now it is your turn to write some Spark programs. Start with the simple task of counting the number of *distinct* tokens which appear in `Shakespeare.txt`.   You have already written Python code to do this in Assignment 1, but for this assignment we want you to use Spark to solve the same problem.   You should compare the answer you get using Spark with the answer you got from your pure-Python solution from Assignment 1.   Both answers should, of course, be the same.\n",
        "\n",
        "Run the next block to download the text file (Shakespeare.txt) and the Python tokenizer module (simple_tokenize.py)."
      ]
    },
    {
      "cell_type": "code",
      "metadata": {
        "id": "rcXDTtuqENqF"
      },
      "source": [
        "!wget -q https://student.cs.uwaterloo.ca/~cs451/content/cs431/Shakespeare.txt\n",
        "!wget -q https://student.cs.uwaterloo.ca/~cs451/content/cs431/simple_tokenize.py"
      ],
      "execution_count": null,
      "outputs": []
    },
    {
      "cell_type": "markdown",
      "metadata": {
        "id": "hYH29hFxyeu6"
      },
      "source": [
        "Your code should use Spark, not the Python driver code, to read `Shakespeare.txt` and do the counting.   The idea is to use Spark to give you a data-parallel alternative to the sequential Python solution you wrote for Assignment 1.\n",
        "\n",
        "Write your solution for question 2 in the code cell below, by implementing the `count_distinct_tokens` function. It should use the `SparkContext` which was created previously (referenced by the variable `sc`). The function `count_distinct_tokens` must return the number of distinct tokens."
      ]
    },
    {
      "cell_type": "code",
      "metadata": {
        "colab": {
          "base_uri": "https://localhost:8080/"
        },
        "id": "PuFxV3z8bJxi",
        "outputId": "08e4334d-b6e3-4550-f389-cc08a07560cc"
      },
      "source": [
        "from simple_tokenize import simple_tokenize\n",
        "\n",
        "# Returns the count of distinct tokens in the `Shakespeare.txt` dataset\n",
        "def count_distinct_tokens():\n",
        "  \n",
        "  lines = sc.textFile(\"Shakespeare.txt\")\n",
        "  distinct_tokens = lines.flatMap(lambda line: simple_tokenize(line)).map(lambda word: (word.lower().strip(), 1)).groupByKey().count()\n",
        "\n",
        "  return distinct_tokens\n",
        "  \n",
        "\n",
        "print(\"Number of distinct tokens = \" + str(count_distinct_tokens()))"
      ],
      "execution_count": null,
      "outputs": [
        {
          "output_type": "stream",
          "text": [
            "Number of distinct tokens = 25975\n"
          ],
          "name": "stdout"
        }
      ]
    },
    {
      "cell_type": "markdown",
      "metadata": {
        "id": "nHPRYLElbJxj"
      },
      "source": [
        "---\n",
        "#### Question 3  (4/30 marks):\n",
        "\n",
        "Next, write a Spark program that will count the number of distinct token pairs in `Shakespeare.txt`, as you did in Assignment 1. Again, ensure that the answer that you get using Spark matches the answer you got in the first assignment.\n",
        "\n",
        "Write your solution for question 3 by implementing the `count_distinct_pairs` function in the code cell below.   It should use the `SparkContext` which was created previously (referenced by the variable `sc`). The function `count_distinct_pairs` must return the number of distinct token pairs."
      ]
    },
    {
      "cell_type": "code",
      "metadata": {
        "colab": {
          "base_uri": "https://localhost:8080/"
        },
        "id": "n43vVrAebJxk",
        "outputId": "b9f445be-1186-4a35-dd48-c1d87e5426e0"
      },
      "source": [
        "from simple_tokenize import simple_tokenize\n",
        "from itertools import permutations\n",
        "\n",
        "# Returns the count of distinct pairs in the `Shakespeare.txt` dataset\n",
        "def count_distinct_pairs():\n",
        "\n",
        "    lines = sc.textFile(\"Shakespeare.txt\")\n",
        "    distinct_pairs = lines.flatMap(lambda line: permutations(simple_tokenize(line),2)).filter(lambda x: x[0] != x[1]).map(lambda x: ((x[0], x[1]), 1)).groupByKey().count()\n",
        "\n",
        "    return distinct_pairs\n",
        "\n",
        "print(\"Number of distinct pairs = \" + str(count_distinct_pairs()))\n",
        "\n",
        "    "
      ],
      "execution_count": null,
      "outputs": [
        {
          "output_type": "stream",
          "text": [
            "Number of distinct pairs = 1969760\n"
          ],
          "name": "stdout"
        }
      ]
    },
    {
      "cell_type": "markdown",
      "metadata": {
        "id": "lUUpIg1zbJxk"
      },
      "source": [
        "---\n",
        "#### Question 4  (6/30 marks):\n",
        "\n",
        "Next, write Spark code that will calculate the probability $p(x)$ (as defined in Assignment 1) for every distinct token $x$ in `Shakespeare.txt`.   Your function should return the 50 highest-probability tokens, and their counts and probabilities.\n",
        "\n",
        "Make sure that your solution calculates probabilities and identifies the 50 highest-probability tokens in a data-parallel fashion, using Spark transformations and actions.   Only the 50 highest-probability tokens (and their counts and probabilities) should be returned by Spark to your driver code.\n",
        "\n",
        "Write your solution for question 4 by implementing the `top_50_tokens_probabilities` function in the code cell below. It should use the `SparkContext` which was created previously (referenced by the variable `sc`). The function `top_50_tokens_probabilities` must return a list of 50 (probability, count, token) tuples, ordered by probability, that is, the list returned by the function should be of the form: `[(proba1, count1, token1), (proba2, count2, token2), ..., (proba50, count50, token50)]`"
      ]
    },
    {
      "cell_type": "code",
      "metadata": {
        "colab": {
          "base_uri": "https://localhost:8080/"
        },
        "id": "TmKHDBW9bJxl",
        "outputId": "addb1616-c548-49a2-dd6c-c5efc76ff472"
      },
      "source": [
        "from simple_tokenize import simple_tokenize\n",
        "\n",
        "# Returns a list of the top 50 (probability, count, token) tuples, ordered by probability\n",
        "def top_50_tokens_probabilities():\n",
        "    \n",
        "    lines = sc.textFile(\"Shakespeare.txt\")\n",
        "    totalLines = lines.count()\n",
        "    occurences = lines.flatMap(lambda line: set(simple_tokenize(line))).map(lambda word: (word.lower().strip(), 1)).reduceByKey(lambda x, y: x+y)\n",
        "    top50 = occurences.map(lambda x: (x[1]/totalLines,(x[1], x[0]))).sortByKey(False).map(lambda x: (x[0], x[1][0], x[1][1])).take(50)\n",
        "\n",
        "    return top50\n",
        "\n",
        "print(\"Top 50 Token Probabilites : \") \n",
        "top_50_tokens_probabilities()\n"
      ],
      "execution_count": null,
      "outputs": [
        {
          "output_type": "stream",
          "text": [
            "Top 50 Token Probabilites : \n"
          ],
          "name": "stdout"
        },
        {
          "output_type": "execute_result",
          "data": {
            "text/plain": [
              "[(0.2009178657172255, 24604, 'and'),\n",
              " (0.19843538192686472, 24300, 'the'),\n",
              " (0.1523542765682928, 18657, 'i'),\n",
              " (0.148924529226347, 18237, 'to'),\n",
              " (0.1357526662202551, 16624, 'of'),\n",
              " (0.10844534452628657, 13280, 'a'),\n",
              " (0.09959332995802643, 12196, 'you'),\n",
              " (0.09430988583840991, 11549, 'my'),\n",
              " (0.08667461497003054, 10614, 'in'),\n",
              " (0.08630714204053634, 10569, 'that'),\n",
              " (0.07150206601447026, 8756, 'is'),\n",
              " (0.06720671577193814, 8230, 'not'),\n",
              " (0.06167012363422561, 7552, 'with'),\n",
              " (0.06039621747864574, 7396, 'me'),\n",
              " (0.05982459292165477, 7326, 'for'),\n",
              " (0.05836286726877787, 7147, 'it'),\n",
              " (0.054402325695340446, 6662, 'be'),\n",
              " (0.05246696826667102, 6425, 'this'),\n",
              " (0.05228731483447386, 6403, 'his'),\n",
              " (0.050899083767495794, 6233, 'your'),\n",
              " (0.05067043394469941, 6205, 'but'),\n",
              " (0.0474938346208496, 5816, 'he'),\n",
              " (0.046889545803459144, 5742, 'have'),\n",
              " (0.04132028940534714, 5060, 'thou'),\n",
              " (0.04015254209606559, 4917, 'as'),\n",
              " (0.03952375508337552, 4840, 'him'),\n",
              " (0.03949109082297604, 4836, 'so'),\n",
              " (0.039450260497476686, 4831, 'will'),\n",
              " (0.03515491025494455, 4305, 'what'),\n",
              " (0.031227032941906614, 3824, 'all'),\n",
              " (0.030630910189616032, 3751, 'thy'),\n",
              " (0.029716310898430482, 3639, 'by'),\n",
              " (0.02961015205213216, 3626, 'do'),\n",
              " (0.028981365039442094, 3549, 'no'),\n",
              " (0.028858874062944028, 3534, 'shall'),\n",
              " (0.02820558885495435, 3454, 'her'),\n",
              " (0.028164758529454995, 3449, 'if'),\n",
              " (0.026915350569174736, 3296, 'are'),\n",
              " (0.0255189534370968, 3125, 'we'),\n",
              " (0.024890166424406734, 3048, 'thee'),\n",
              " (0.024294043672116156, 2975, 'on'),\n",
              " (0.024032729588920283, 2943, 'lord'),\n",
              " (0.023599928138627123, 2890, 'our'),\n",
              " (0.022946642930637442, 2810, 'king'),\n",
              " (0.022268859527348153, 2727, 'good'),\n",
              " (0.02224436133204854, 2724, 'now'),\n",
              " (0.021468585147560795, 2629, 'sir'),\n",
              " (0.021190938934165182, 2595, 'from'),\n",
              " (0.02067647683287331, 2532, 'o'),\n",
              " (0.020096686210782474, 2461, 'at')]"
            ]
          },
          "metadata": {
            "tags": []
          },
          "execution_count": 7
        }
      ]
    },
    {
      "cell_type": "markdown",
      "metadata": {
        "id": "h7FJUeGTbJxl"
      },
      "source": [
        "---\n",
        "#### Question 5  (6/30 marks):\n",
        "\n",
        "Next, write the code for the function `PMI` that will take a positive integer threshold $T$ as an argument, and then return all token pairs that co-occur at least $T$ times in `Shakespeare.txt`.   For each such pair $(x,y)$, the function should also return PMI$(x,y)$, the co-occurrence count of the pair, the number of times $x$ appears, and the number of times $y$ appears. You can compare the results produced by this code with the results of Two-Token queries (from Assignment 1) for consistency.\n",
        "\n",
        "Write your solution for question 5 by implementing the function `PMI` in the code cell below. It should use the `SparkContext` which was created previously (referenced by the variable `sc`). The function `PMI` should return a list of ((token1, token2), pmi, co-occurrence_count, token1_count, token2_count) tuples, that is, the list returned by the function should be of the form: `[((token1, token2), pmi, cooc_count, token1_count, token2_count), (...), ((other_token1, other_token2), other_pmi, other_cooc_count, other_token1_count, other_token2_count)]`.\n",
        "\n",
        "\n",
        "As always, calculations should be done in data-parallel fashion by using Spark."
      ]
    },
    {
      "cell_type": "code",
      "metadata": {
        "colab": {
          "base_uri": "https://localhost:8080/"
        },
        "id": "MZMY3pI9bJxm",
        "outputId": "0b88c095-b996-4f25-8437-fdc5b679cef5"
      },
      "source": [
        "from simple_tokenize import simple_tokenize\n",
        "from math import log\n",
        "from itertools import permutations\n",
        "\n",
        "#Global variables to broadcast occurences\n",
        "lines = sc.textFile(\"Shakespeare.txt\")\n",
        "occurence = lines.flatMap(lambda line: set(simple_tokenize(line))).map(lambda word: (word.lower().strip(), 1)).reduceByKey(lambda x,y: x+y).collectAsMap()\n",
        "broadcastedOcc = sc.broadcast(occurence)\n",
        "\n",
        "#Helper function to return token occurences using broadcasted variable\n",
        "def getTokenOccurence(token):\n",
        "  return broadcastedOcc.value[token]\n",
        "\n",
        "# Returns a list of tuples with the following format:\n",
        "# ((token1, token2), pmi, co-occurrence_count, token1_count, token2_count)  \n",
        "def PMI(threshold):\n",
        "    lines = sc.textFile(\"Shakespeare.txt\")\n",
        "    totalLines = lines.count()\n",
        "    coOccurences = lines.map(lambda x: set(simple_tokenize(x))).map(lambda x: (list(permutations(x,2)))).flatMap(lambda x: x).map(lambda x: (x,1)).reduceByKey(lambda x, y: x+y).filter(lambda x: len(x[0]) != 0).filter(lambda x: x[1]>= threshold)\n",
        "    pmi_intermediate_step = coOccurences.map(lambda x: ((x[0][0], x[0][1]), x[1], getTokenOccurence(x[0][0]), getTokenOccurence(x[0][1])))\n",
        "    pmi = pmi_intermediate_step.map(lambda x: (x[0], log((((x[1])/(x[2]*x[3]))*totalLines),10) ,x[1], x[2], x[3]))\n",
        "    \n",
        "    return pmi.collect()\n",
        "\n",
        "print(PMI(1000))\n"
      ],
      "execution_count": null,
      "outputs": [
        {
          "output_type": "stream",
          "text": [
            "[(('that', 'the'), 0.06945860440719692, 2461, 10569, 24300), (('the', 'that'), 0.06945860440719692, 2461, 24300, 10569), (('to', 'the'), 0.05123525982989819, 4072, 18237, 24300), (('to', 'and'), 0.017522588038697152, 3815, 18237, 24604), (('the', 'to'), 0.05123525982989819, 4072, 24300, 18237), (('the', 'and'), 0.0459349918330654, 5427, 24300, 24604), (('and', 'to'), 0.017522588038697152, 3815, 24604, 18237), (('and', 'the'), 0.0459349918330654, 5427, 24604, 24300), (('the', 'be'), -0.09797128011614716, 1055, 24300, 6662), (('be', 'the'), -0.09797128011614716, 1055, 6662, 24300), (('all', 'the'), 0.14105230407117497, 1050, 3824, 24300), (('the', 'all'), 0.14105230407117497, 1050, 24300, 3824), (('all', 'and'), 0.15821868721651836, 1106, 3824, 24604), (('and', 'all'), 0.15821868721651836, 1106, 24604, 3824), (('this', 'of'), 0.1517481996162979, 1237, 6425, 16624), (('of', 'this'), 0.1517481996162979, 1237, 16624, 6425), (('my', 'and'), 0.0056896916303759305, 2351, 11549, 24604), (('and', 'my'), 0.0056896916303759305, 2351, 24604, 11549), (('to', 'be'), 0.2509113964214043, 1768, 18237, 6662), (('be', 'to'), 0.2509113964214043, 1768, 6662, 18237), (('it', 'and'), 0.020682633615416095, 1506, 7147, 24604), (('and', 'it'), 0.020682633615416095, 1506, 24604, 7147), (('he', 'is'), 0.4030727512744563, 1052, 5816, 8756), (('is', 'he'), 0.4030727512744563, 1052, 8756, 5816), (('his', 'of'), 0.07998442061341456, 1045, 6403, 16624), (('of', 'his'), 0.07998442061341456, 1045, 16624, 6403), (('to', 'not'), 0.0161210401996333, 1272, 18237, 8230), (('not', 'to'), 0.0161210401996333, 1272, 8230, 18237), (('with', 'and'), 0.09904235886419646, 1906, 7552, 24604), (('and', 'with'), 0.09904235886419646, 1906, 24604, 7552), (('that', 'and'), -0.058240550309223156, 1857, 10569, 24604), (('and', 'that'), -0.058240550309223156, 1857, 24604, 10569), (('to', 'him'), 0.2335035621523184, 1234, 18237, 4840), (('him', 'to'), 0.2335035621523184, 1234, 4840, 18237), (('him', 'and'), 0.0880478436902664, 1191, 4840, 24604), (('and', 'him'), 0.0880478436902664, 1191, 24604, 4840), (('in', 'of'), 0.05276010163400139, 1627, 10614, 16624), (('of', 'in'), 0.05276010163400139, 1627, 16624, 10614), (('for', 'to'), -0.017886468550175696, 1047, 7326, 18237), (('to', 'for'), -0.017886468550175696, 1047, 18237, 7326), (('be', 'and'), 0.005636505027787954, 1356, 6662, 24604), (('and', 'be'), 0.005636505027787954, 1356, 24604, 6662), (('a', 'for'), 0.13414943361363732, 1082, 13280, 7326), (('a', 'to'), 0.048227962752620035, 2210, 13280, 18237), (('for', 'a'), 0.13414943361363732, 1082, 7326, 13280), (('to', 'a'), 0.048227962752620035, 2210, 18237, 13280), (('to', 'it'), 0.10963054915474774, 1370, 18237, 7147), (('it', 'to'), 0.10963054915474774, 1370, 7147, 18237), (('a', 'the'), -0.13751595772314967, 1920, 13280, 24300), (('the', 'a'), -0.13751595772314967, 1920, 24300, 13280), (('will', 'and'), 0.04475667769575197, 1076, 4831, 24604), (('and', 'will'), 0.04475667769575197, 1076, 24604, 4831), (('for', 'the'), 0.023622354089978568, 1535, 7326, 24300), (('the', 'for'), 0.023622354089978568, 1535, 24300, 7326), (('the', 'it'), -0.009979663220079699, 1386, 24300, 7147), (('it', 'the'), -0.009979663220079699, 1386, 7147, 24300), (('so', 'and'), 0.033270639856725, 1049, 4836, 24604), (('and', 'so'), 0.033270639856725, 1049, 24604, 4836), (('that', 'to'), -0.004711521233276605, 1557, 10569, 18237), (('to', 'that'), -0.004711521233276605, 1557, 18237, 10569), (('for', 'and'), -0.006218058038888795, 1451, 7326, 24604), (('and', 'for'), -0.006218058038888795, 1451, 24604, 7326), (('i', 'do'), 0.40291395702511784, 1397, 18657, 3626), (('do', 'i'), 0.40291395702511784, 1397, 3626, 18657), (('i', 'of'), -0.08531809933104936, 2081, 18657, 16624), (('of', 'i'), -0.08531809933104936, 2081, 16624, 18657), (('with', 'the'), 0.021323635338332547, 1574, 7552, 24300), (('the', 'with'), 0.021323635338332547, 1574, 24300, 7552), (('your', 'you'), 0.29838777931549276, 1234, 6233, 12196), (('that', 'you'), 0.07429828698349905, 1249, 10569, 12196), (('you', 'your'), 0.29838777931549276, 1234, 12196, 6233), (('you', 'that'), 0.07429828698349905, 1249, 12196, 10569), (('your', 'to'), 0.12224174864690736, 1230, 6233, 18237), (('your', 'and'), 0.010172342142701409, 1282, 6233, 24604), (('to', 'your'), 0.12224174864690736, 1230, 18237, 6233), (('and', 'your'), 0.010172342142701409, 1282, 24604, 6233), (('my', 'you'), 0.02983607299221033, 1232, 11549, 12196), (('you', 'my'), 0.02983607299221033, 1232, 12196, 11549), (('a', 'you'), -0.03649475358501404, 1216, 13280, 12196), (('you', 'a'), -0.03649475358501404, 1216, 12196, 13280), (('my', 'the'), -0.16731737755232368, 1559, 11549, 24300), (('not', 'the'), -0.08300699693506622, 1349, 8230, 24300), (('the', 'my'), -0.16731737755232368, 1559, 24300, 11549), (('the', 'not'), -0.08300699693506622, 1349, 24300, 8230), (('i', 'have'), 0.4472482468744711, 2450, 18657, 5742), (('have', 'i'), 0.4472482468744711, 2450, 5742, 18657), (('i', 'in'), -0.00980186269073185, 1581, 18657, 10614), (('in', 'i'), -0.00980186269073185, 1581, 10614, 18657), (('i', 'but'), 0.16991073624533976, 1398, 18657, 6205), (('but', 'i'), 0.16991073624533976, 1398, 6205, 18657), (('this', 'i'), 0.04229366335000433, 1079, 6425, 18657), (('i', 'this'), 0.04229366335000433, 1079, 18657, 6425), (('i', 'as'), 0.17194030671497262, 1113, 18657, 4917), (('as', 'i'), 0.17194030671497262, 1113, 4917, 18657), (('you', 'and'), -0.05963472348492286, 2136, 12196, 24604), (('and', 'you'), -0.05963472348492286, 2136, 24604, 12196), (('not', 'you'), 0.19153933929733027, 1274, 8230, 12196), (('you', 'not'), 0.19153933929733027, 1274, 12196, 8230), (('you', 'the'), -0.1064565524207891, 1894, 12196, 24300), (('the', 'you'), -0.1064565524207891, 1894, 24300, 12196), (('my', 'to'), 0.06181209695834593, 1983, 11549, 18237), (('to', 'my'), 0.06181209695834593, 1983, 18237, 11549), (('not', 'and'), -0.13241468574198648, 1219, 8230, 24604), (('and', 'not'), -0.13241468574198648, 1219, 24604, 8230), (('a', 'and'), 0.0006198226234107661, 2672, 13280, 24604), (('and', 'a'), 0.0006198226234107661, 2672, 24604, 13280), (('a', 'with'), 0.1103910240793937, 1056, 13280, 7552), (('with', 'a'), 0.1103910240793937, 1056, 7552, 13280), (('me', 'and'), 0.01011375541776431, 1521, 7396, 24604), (('and', 'me'), 0.01011375541776431, 1521, 24604, 7396), (('my', 'me'), 0.15817959117901184, 1004, 11549, 7396), (('me', 'my'), 0.15817959117901184, 1004, 7396, 11549), (('i', 'am'), 0.8031984391122662, 2053, 18657, 2120), (('am', 'i'), 0.8031984391122662, 2053, 2120, 18657), (('is', 'of'), 0.020115230526370407, 1245, 8756, 16624), (('of', 'is'), 0.020115230526370407, 1245, 16624, 8756), (('to', 'me'), 0.21977540896491035, 1827, 18237, 7396), (('me', 'to'), 0.21977540896491035, 1827, 7396, 18237), (('to', 'with'), -0.04499026219318733, 1014, 18237, 7552), (('with', 'to'), -0.04499026219318733, 1014, 7552, 18237), (('my', 'lord'), 0.8460184702775674, 1947, 11549, 2943), (('lord', 'my'), 0.8460184702775674, 1947, 2943, 11549), (('the', 'me'), -0.11200295932494833, 1134, 24300, 7396), (('me', 'the'), -0.11200295932494833, 1134, 7396, 24300), (('i', 'is'), -0.11274502746303525, 1029, 18657, 8756), (('is', 'i'), -0.11274502746303525, 1029, 8756, 18657), (('a', 'that'), -0.005782205803836801, 1131, 13280, 10569), (('that', 'a'), -0.005782205803836801, 1131, 10569, 13280), (('this', 'is'), 0.3752347752450089, 1090, 6425, 8756), (('is', 'this'), 0.3752347752450089, 1090, 8756, 6425), (('to', 'you'), 0.1276718775908892, 2437, 18237, 12196), (('you', 'to'), 0.1276718775908892, 2437, 12196, 18237), (('will', 'you'), 0.31860043055497556, 1002, 4831, 12196), (('you', 'will'), 0.31860043055497556, 1002, 12196, 4831), (('you', 'me'), 0.24938058801138147, 1308, 12196, 7396), (('me', 'you'), 0.24938058801138147, 1308, 7396, 12196), (('but', 'the'), -0.02180400215708608, 1171, 6205, 24300), (('the', 'but'), -0.02180400215708608, 1171, 24300, 6205), (('in', 'and'), 0.040318217968677454, 2340, 10614, 24604), (('and', 'in'), 0.040318217968677454, 2340, 24604, 10614), (('this', 'the'), -0.06056069724887269, 1109, 6425, 24300), (('the', 'this'), -0.06056069724887269, 1109, 24300, 6425), (('a', 'of'), 0.13551796879761388, 2463, 13280, 16624), (('of', 'a'), 0.13551796879761388, 2463, 16624, 13280), (('the', 'of'), 0.34294075191889306, 7266, 24300, 16624), (('of', 'the'), 0.34294075191889306, 7266, 16624, 24300), (('this', 'to'), 0.07415649362531739, 1135, 6425, 18237), (('to', 'this'), 0.07415649362531739, 1135, 18237, 6425), (('in', 'the'), 0.13332315333353123, 2863, 10614, 24300), (('the', 'in'), 0.13332315333353123, 2863, 24300, 10614), (('that', 'is'), 0.19646395205198727, 1188, 10569, 8756), (('is', 'that'), 0.19646395205198727, 1188, 8756, 10569), (('is', 'the'), 0.1463957096034515, 2434, 8756, 24300), (('the', 'is'), 0.1463957096034515, 2434, 24300, 8756), (('he', 'the'), 0.0010898497060675269, 1157, 5816, 24300), (('the', 'he'), 0.0010898497060675269, 1157, 24300, 5816), (('his', 'to'), 0.09765458906869072, 1194, 6403, 18237), (('to', 'his'), 0.09765458906869072, 1194, 18237, 6403), (('to', 'of'), -0.09813466615111513, 1975, 18237, 16624), (('of', 'to'), -0.09813466615111513, 1975, 16624, 18237), (('a', 'in'), 0.12643072471470923, 1540, 13280, 10614), (('in', 'a'), 0.12643072471470923, 1540, 10614, 13280), (('his', 'and'), 0.14150564172858981, 1782, 6403, 24604), (('and', 'his'), 0.14150564172858981, 1782, 24604, 6403), (('that', 'in'), 0.06907846237287665, 1074, 10569, 10614), (('in', 'that'), 0.06907846237287665, 1074, 10614, 10569), (('a', 'is'), 0.16612256955026208, 1392, 13280, 8756), (('to', 'is'), -0.008741134974004682, 1278, 18237, 8756), (('is', 'a'), 0.16612256955026208, 1392, 8756, 13280), (('is', 'to'), -0.008741134974004682, 1278, 8756, 18237), (('is', 'it'), 0.47168350237060436, 1514, 8756, 7147), (('it', 'is'), 0.47168350237060436, 1514, 7147, 8756), (('that', 'of'), 0.03856379243802408, 1568, 10569, 16624), (('of', 'that'), 0.03856379243802408, 1568, 16624, 10569), (('his', 'the'), -0.02554579516557563, 1198, 6403, 24300), (('the', 'his'), -0.02554579516557563, 1198, 24300, 6403), (('i', 'that'), 0.1122175120792972, 2085, 18657, 10569), (('i', 'my'), 0.16722948986833625, 2586, 18657, 11549), (('that', 'i'), 0.1122175120792972, 2085, 10569, 18657), (('my', 'i'), 0.16722948986833625, 2586, 11549, 18657), (('and', 'is'), -0.02705145547254516, 1653, 24604, 8756), (('is', 'and'), -0.02705145547254516, 1653, 8756, 24604), (('this', 'and'), -0.05589582662228922, 1135, 6425, 24604), (('and', 'this'), -0.05589582662228922, 1135, 24604, 6425), (('i', 'the'), -0.08302344185158499, 3058, 18657, 24300), (('the', 'i'), -0.08302344185158499, 3058, 24300, 18657), (('you', 'are'), 0.5107241714442197, 1064, 12196, 3296), (('are', 'you'), 0.5107241714442197, 1064, 3296, 12196), (('of', 'and'), 0.028305447826683594, 3565, 16624, 24604), (('and', 'of'), 0.028305447826683594, 3565, 24604, 16624), (('i', 'not'), 0.2812323291754297, 2396, 18657, 8230), (('not', 'i'), 0.2812323291754297, 2396, 8230, 18657), (('i', 'and'), -0.0503740353380564, 3338, 18657, 24604), (('have', 'and'), -0.0522061105964256, 1023, 5742, 24604), (('and', 'i'), -0.0503740353380564, 3338, 24604, 18657), (('and', 'have'), -0.0522061105964256, 1023, 24604, 5742), (('i', 'to'), 0.046852605922459135, 3095, 18657, 18237), (('to', 'i'), 0.046852605922459135, 3095, 18237, 18657), (('i', 'thee'), 0.4137568749246686, 1204, 18657, 3048), (('thee', 'i'), 0.4137568749246686, 1204, 3048, 18657), (('my', 'in'), 0.06514341229222842, 1163, 11549, 10614), (('in', 'my'), 0.06514341229222842, 1163, 10614, 11549), (('you', 'of'), -0.06090498976622853, 1439, 12196, 16624), (('of', 'you'), -0.06090498976622853, 1439, 16624, 12196), (('i', 'you'), 0.18638190375571087, 2854, 18657, 12196), (('you', 'i'), 0.18638190375571087, 2854, 12196, 18657), (('to', 'in'), -0.07499367822677293, 1330, 18237, 10614), (('in', 'to'), -0.07499367822677293, 1330, 10614, 18237), (('your', 'i'), 0.06737976992758732, 1109, 6233, 18657), (('i', 'your'), 0.06737976992758732, 1109, 18657, 6233), (('i', 'a'), 0.024563942932865457, 2141, 18657, 13280), (('a', 'i'), 0.024563942932865457, 2141, 13280, 18657), (('of', 'my'), 0.011802791063262602, 1611, 16624, 11549), (('my', 'of'), 0.011802791063262602, 1611, 11549, 16624), (('my', 'is'), 0.12492434693300444, 1101, 11549, 8756), (('is', 'my'), 0.12492434693300444, 1101, 8756, 11549), (('i', 'will'), 0.456978919724415, 2108, 18657, 4831), (('will', 'i'), 0.456978919724415, 2108, 4831, 18657), (('i', 'me'), 0.13904016510546002, 1552, 18657, 7396), (('me', 'i'), 0.13904016510546002, 1552, 7396, 18657), (('i', 'be'), 0.08696240747750286, 1240, 18657, 6662), (('be', 'i'), 0.08696240747750286, 1240, 6662, 18657), (('i', 'for'), 0.18374802677258098, 1704, 18657, 7326), (('for', 'i'), 0.18374802677258098, 1704, 7326, 18657), (('so', 'i'), 0.1579649237464618, 1060, 4836, 18657), (('i', 'so'), 0.1579649237464618, 1060, 18657, 4836), (('he', 'and'), 0.030654582495617602, 1254, 5816, 24604), (('and', 'he'), 0.030654582495617602, 1254, 24604, 5816), (('i', 'with'), -0.01912931164783497, 1101, 18657, 7552), (('with', 'i'), -0.01912931164783497, 1101, 7552, 18657), (('i', 'him'), 0.17329768144950394, 1099, 18657, 4840), (('him', 'i'), 0.17329768144950394, 1099, 4840, 18657), (('the', 'have'), -0.037566009108115, 1045, 24300, 5742), (('have', 'the'), -0.037566009108115, 1045, 5742, 24300), (('i', 'it'), 0.13940226081252913, 1501, 18657, 7147), (('it', 'i'), 0.13940226081252913, 1501, 7147, 18657), (('you', 'have'), 0.3906918790335864, 1406, 12196, 5742), (('have', 'you'), 0.3906918790335864, 1406, 5742, 12196), (('have', 'to'), 0.11989449198512732, 1127, 5742, 18237), (('to', 'have'), 0.11989449198512732, 1127, 18237, 5742), (('king', 'the'), 0.30172774181582857, 1117, 2810, 24300), (('the', 'king'), 0.30172774181582857, 1117, 24300, 2810)]\n"
          ],
          "name": "stdout"
        }
      ]
    },
    {
      "cell_type": "markdown",
      "metadata": {
        "id": "R5QkpXFWbJxm"
      },
      "source": [
        "---\n",
        "#### Question 6  (6/30 marks):\n",
        "\n",
        "Finally, write Spark code for the function `PMI_one_token`, that will take a positive integer threshold $T$ and a sample size $N$ as arguments. For every token $x$ in `Shakespeare.txt`, your code should find all tokens $y$ that co-occur with $x$ at least $T$ times, as well as PMI$(x,y)$ for each such pair, the co-occurrence count of the pair, the number of times $x$ appears, and the number of times $y$ appears.\n",
        "\n",
        "For each $x$, the output of your program should be equivalent to the output that would be produced by a One-Token query on $x$ (see Assignment 1), with threshold $T$. Rather than producing output for all possible tokens $x$, the function should produce output only for $N$ different $x$'s, chosen at random from among all distinct tokens in the input file.\n",
        "\n",
        "Write your solution for question 6 by implementing the function `PMI_one_token` in the code cell below. It should use the `SparkContext` which was created previously (referenced by the variable `sc`). The function `PMI_one_token` should return a list of $N$ tuples of the form `(token, [ list_of_cooccurring_tokens ])`, where each entry in `list_of_cooccurring_tokens` is of the form `((token1, token2), pmi, cooc_count, token1_count, token2_count)`.\n",
        "\n",
        "For instance, if $N$ = 2 and the randomly selected tokens are \"if\" and \"you\", a valid format for the value returned by `PMI_one_token` would be:\n",
        "```\n",
        "[('if', [(('if', 'you'), -0.09813466615111513, 1975, 16624, 18237), (('if', 'a'), 0.03856379243802408, 1568, 16624, 10569)]), ('you', [(('you', 'if'), -0.09813466615111513, 1975, 18237, 16624)])]\n",
        "```\n",
        "\n",
        "Hint: Sampling must be done at the very last step. Hint: there is an action that returns a sample subset from an RDD.\n"
      ]
    },
    {
      "cell_type": "code",
      "metadata": {
        "id": "eUrjYZm6bJxn",
        "colab": {
          "base_uri": "https://localhost:8080/"
        },
        "outputId": "9931e35a-5bb0-4d2a-cf5c-4a8a011a2fa1"
      },
      "source": [
        "from simple_tokenize import simple_tokenize\n",
        "from math import log\n",
        "import pprint\n",
        "\n",
        "#Global variables to broadcast occurences\n",
        "lines = sc.textFile(\"Shakespeare.txt\")\n",
        "occurence = lines.flatMap(lambda line: set(simple_tokenize(line))).map(lambda word: (word.lower().strip(), 1)).reduceByKey(lambda x,y: x+y).collectAsMap()\n",
        "broadcastedOcc = sc.broadcast(occurence)\n",
        "\n",
        "#Helper function to return token occurences using broadcasted variable\n",
        "def getTokenOccurence(token):\n",
        "  return broadcastedOcc.value[token]\n",
        "\n",
        "# Returns a list of samp_size tuples with the following format:\n",
        "# (token, [ list_of_cooccurring_tokens ])\n",
        "# where list_of_cooccurring_tokens is of the form\n",
        "# [((token1, token2), pmi, cooc_count, token1_count, token2_count), ...]\n",
        "def PMI_one_token(threshold, samp_size):\n",
        "    lines = sc.textFile(\"Shakespeare.txt\")\n",
        "    totalLines = lines.count()\n",
        "    coOccurences = lines.map(lambda x: set(simple_tokenize(x))).map(lambda x: (list(permutations(x,2)))).flatMap(lambda x: x).map(lambda x: (x,1)).reduceByKey(lambda x, y: x+y).filter(lambda x: len(x[0]) != 0).filter(lambda x: x[1]>= threshold)\n",
        "    pmi_intermediate_step = coOccurences.map(lambda x: ((x[0][0], x[0][1]), x[1], getTokenOccurence(x[0][0]), getTokenOccurence(x[0][1])))\n",
        "    pmi = pmi_intermediate_step.map(lambda x: (x[0], log((((x[1])/(x[2]*x[3]))*totalLines),10) ,x[1], x[2], x[3]))\n",
        "    returnlist = pmi.map(lambda x: (x[0][0], list(x))).groupByKey().map(lambda x: (x[0], list(x[1]))).takeSample(False, samp_size)\n",
        "    \n",
        "    return returnlist\n",
        "\n",
        "pp = pprint.PrettyPrinter(indent=4)\n",
        "pp.pprint(PMI_one_token(2000,10))\n"
      ],
      "execution_count": null,
      "outputs": [
        {
          "output_type": "stream",
          "text": [
            "[   ('will', [[('will', 'i'), 0.456978919724415, 2108, 4831, 18657]]),\n",
            "    ('not', [[('not', 'i'), 0.2812323291754297, 2396, 8230, 18657]]),\n",
            "    (   'and',\n",
            "        [   [('and', 'to'), 0.017522588038697152, 3815, 24604, 18237],\n",
            "            [('and', 'the'), 0.0459349918330654, 5427, 24604, 24300],\n",
            "            [('and', 'my'), 0.0056896916303759305, 2351, 24604, 11549],\n",
            "            [('and', 'you'), -0.05963472348492286, 2136, 24604, 12196],\n",
            "            [('and', 'a'), 0.0006198226234107661, 2672, 24604, 13280],\n",
            "            [('and', 'in'), 0.040318217968677454, 2340, 24604, 10614],\n",
            "            [('and', 'of'), 0.028305447826683594, 3565, 24604, 16624],\n",
            "            [('and', 'i'), -0.0503740353380564, 3338, 24604, 18657]]),\n",
            "    (   'the',\n",
            "        [   [('the', 'that'), 0.06945860440719692, 2461, 24300, 10569],\n",
            "            [('the', 'to'), 0.05123525982989819, 4072, 24300, 18237],\n",
            "            [('the', 'and'), 0.0459349918330654, 5427, 24300, 24604],\n",
            "            [('the', 'of'), 0.34294075191889306, 7266, 24300, 16624],\n",
            "            [('the', 'in'), 0.13332315333353123, 2863, 24300, 10614],\n",
            "            [('the', 'is'), 0.1463957096034515, 2434, 24300, 8756],\n",
            "            [('the', 'i'), -0.08302344185158499, 3058, 24300, 18657]]),\n",
            "    ('have', [[('have', 'i'), 0.4472482468744711, 2450, 5742, 18657]]),\n",
            "    (   'that',\n",
            "        [   [('that', 'the'), 0.06945860440719692, 2461, 10569, 24300],\n",
            "            [('that', 'i'), 0.1122175120792972, 2085, 10569, 18657]]),\n",
            "    ('am', [[('am', 'i'), 0.8031984391122662, 2053, 2120, 18657]]),\n",
            "    ('is', [[('is', 'the'), 0.1463957096034515, 2434, 8756, 24300]]),\n",
            "    (   'in',\n",
            "        [   [('in', 'and'), 0.040318217968677454, 2340, 10614, 24604],\n",
            "            [('in', 'the'), 0.13332315333353123, 2863, 10614, 24300]]),\n",
            "    (   'my',\n",
            "        [   [('my', 'and'), 0.0056896916303759305, 2351, 11549, 24604],\n",
            "            [('my', 'i'), 0.16722948986833625, 2586, 11549, 18657]])]\n"
          ],
          "name": "stdout"
        }
      ]
    },
    {
      "cell_type": "markdown",
      "metadata": {
        "id": "-9gADJ6wbJxo"
      },
      "source": [
        "---\n",
        "Don't forget to save your workbook!   When you are finished and you are ready to submit your assignment, download your notebook file (.ipynb) from the hub to your machine, and then follow the submission instructions in the assignment."
      ]
    }
  ]
}